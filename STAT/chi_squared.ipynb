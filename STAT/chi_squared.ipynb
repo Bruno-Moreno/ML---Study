{
 "cells": [
  {
   "cell_type": "markdown",
   "metadata": {},
   "source": [
    "# $\\chi^2$ -  Hyphotesis Testing"
   ]
  },
  {
   "cell_type": "markdown",
   "metadata": {},
   "source": [
    "## Introduction and Formulation"
   ]
  },
  {
   "cell_type": "markdown",
   "metadata": {},
   "source": [
    "The $\\chi^2$ distribution is the result of adding independent standard normal random variables. Let $Z_i$ from $i = 1 \\dots n$ normal independent random variables. Define\n",
    "$$ Q = \\sum_{i=1}^{n} Z_i^2 $$\n",
    "Then we say that $Q \\sim \\chi_n^2$ whit $n$ degrees of freedom. "
   ]
  },
  {
   "cell_type": "markdown",
   "metadata": {},
   "source": [
    "## Hyphotesis Testing "
   ]
  },
  {
   "cell_type": "markdown",
   "metadata": {},
   "source": [
    "This distribution is widely used for Hyphotesis Testing. Suppose that I have a survey with $X = (X_1 , \\dots, X_n)$ observations of $X \\sim Bernoulli(p)$ (Null Hyphotesis). \n",
    "\n",
    " - The real number of observations of class 1 is $\\sum_{i=1}^n X_i = o_1$ and $o_0 = n - o_1$.\n",
    " - The expected number of observations is $m_1 = np$ and $m_0 = n(1-p)$ (under the null hyphotesis)\n",
    "\n",
    "If $n$ is a big number, then by TCL $O_1 = \\sum_{i=1}^n X_i \\sim \\mathcal{N}(np , np(1-p))$, in other words,  \n",
    "$$ \\frac{\\sum_{i=1}^{n}X_i - np}{\\sqrt{np(1-p)}} \\sim \\mathcal{N}(0, 1)$$"
   ]
  },
  {
   "cell_type": "markdown",
   "metadata": {
    "vscode": {
     "languageId": "plaintext"
    }
   },
   "source": [
    "Raised by 2, we get\n",
    "\n",
    "$$ \\frac{(\\sum_{i=1}^{n}X_i - np)^2}{np(1-p)} \\sim \\chi^2_{1}$$\n",
    "\n",
    "Rewriting this expression for the Bernoulli case we get \n",
    "\n",
    "$$ \\frac{((n-\\sum_{i=1}^n X_i) - n(1-p))^2}{n(1-p)} + \\frac{(\\sum_{i=1}^n X_i - np)^2}{np} \\sim \\chi^2_{1}$$\n",
    "\n",
    "Replacing with the variable definitions above we get \n",
    "\n",
    "$$ \\frac{(o_0 - m_0)^2}{m_0} + \\frac{(o_1 - m_1)^2}{m_1} \\sim \\chi^2_{1} $$ \n",
    "\n",
    "And for the general case with $k$ classes the result stands for the next formula \n",
    "\n",
    "$$ \\sum_{j=1}^{k}\\frac{(o_j - m_j)^2}{m_j} \\sim \\chi^2_{k-1}$$ \n",
    "\n"
   ]
  },
  {
   "cell_type": "markdown",
   "metadata": {},
   "source": [
    "## Implementation\n",
    "\n"
   ]
  },
  {
   "cell_type": "code",
   "execution_count": 23,
   "metadata": {},
   "outputs": [],
   "source": [
    "import numpy as np\n",
    "import pandas as pd \n",
    "\n",
    "# library for chi2 testing \n",
    "from scipy.stats import chi2 \n",
    "from scipy.stats import chi2_contingency"
   ]
  },
  {
   "cell_type": "markdown",
   "metadata": {},
   "source": [
    "Suppose that I have an AB Testing with the next results: "
   ]
  },
  {
   "cell_type": "code",
   "execution_count": 35,
   "metadata": {},
   "outputs": [
    {
     "name": "stdout",
     "output_type": "stream",
     "text": [
      "Observed Results\n"
     ]
    },
    {
     "data": {
      "text/html": [
       "<div>\n",
       "<style scoped>\n",
       "    .dataframe tbody tr th:only-of-type {\n",
       "        vertical-align: middle;\n",
       "    }\n",
       "\n",
       "    .dataframe tbody tr th {\n",
       "        vertical-align: top;\n",
       "    }\n",
       "\n",
       "    .dataframe thead th {\n",
       "        text-align: right;\n",
       "    }\n",
       "</style>\n",
       "<table border=\"1\" class=\"dataframe\">\n",
       "  <thead>\n",
       "    <tr style=\"text-align: right;\">\n",
       "      <th></th>\n",
       "      <th>variant A</th>\n",
       "      <th>variant B</th>\n",
       "    </tr>\n",
       "    <tr>\n",
       "      <th>action</th>\n",
       "      <th></th>\n",
       "      <th></th>\n",
       "    </tr>\n",
       "  </thead>\n",
       "  <tbody>\n",
       "    <tr>\n",
       "      <th>clicked</th>\n",
       "      <td>70</td>\n",
       "      <td>20</td>\n",
       "    </tr>\n",
       "    <tr>\n",
       "      <th>not_clicked</th>\n",
       "      <td>140</td>\n",
       "      <td>80</td>\n",
       "    </tr>\n",
       "  </tbody>\n",
       "</table>\n",
       "</div>"
      ],
      "text/plain": [
       "             variant A  variant B\n",
       "action                           \n",
       "clicked             70         20\n",
       "not_clicked        140         80"
      ]
     },
     "execution_count": 35,
     "metadata": {},
     "output_type": "execute_result"
    }
   ],
   "source": [
    "index = [\"clicked\", \"not_clicked\"]\n",
    "a_variant_obs = [70, 140]\n",
    "b_variant_obs = [20, 80]\n",
    "\n",
    "print(\"Observed Results\")\n",
    "results_obs = pd.DataFrame()\n",
    "results_obs[\"action\"] = index\n",
    "results_obs.set_index(\"action\", inplace = True) \n",
    "results_obs[\"variant A\"] = a_variant_obs\n",
    "results_obs[\"variant B\"] = b_variant_obs\n",
    "results_obs"
   ]
  },
  {
   "cell_type": "markdown",
   "metadata": {},
   "source": [
    "### Manual Calculation"
   ]
  },
  {
   "cell_type": "code",
   "execution_count": 36,
   "metadata": {},
   "outputs": [
    {
     "data": {
      "text/plain": [
       "variant A    210\n",
       "variant B    100\n",
       "dtype: int64"
      ]
     },
     "execution_count": 36,
     "metadata": {},
     "output_type": "execute_result"
    }
   ],
   "source": [
    "variant_total = results_obs.sum(axis = 0)\n",
    "variant_total"
   ]
  },
  {
   "cell_type": "code",
   "execution_count": 37,
   "metadata": {},
   "outputs": [
    {
     "data": {
      "text/plain": [
       "action\n",
       "clicked         90\n",
       "not_clicked    220\n",
       "dtype: int64"
      ]
     },
     "execution_count": 37,
     "metadata": {},
     "output_type": "execute_result"
    }
   ],
   "source": [
    "click_total = results_obs.sum(axis = 1)\n",
    "click_total"
   ]
  },
  {
   "cell_type": "code",
   "execution_count": 38,
   "metadata": {},
   "outputs": [
    {
     "name": "stdout",
     "output_type": "stream",
     "text": [
      "Expected Results\n"
     ]
    },
    {
     "data": {
      "text/html": [
       "<div>\n",
       "<style scoped>\n",
       "    .dataframe tbody tr th:only-of-type {\n",
       "        vertical-align: middle;\n",
       "    }\n",
       "\n",
       "    .dataframe tbody tr th {\n",
       "        vertical-align: top;\n",
       "    }\n",
       "\n",
       "    .dataframe thead th {\n",
       "        text-align: right;\n",
       "    }\n",
       "</style>\n",
       "<table border=\"1\" class=\"dataframe\">\n",
       "  <thead>\n",
       "    <tr style=\"text-align: right;\">\n",
       "      <th></th>\n",
       "      <th>variant A</th>\n",
       "      <th>variant B</th>\n",
       "    </tr>\n",
       "    <tr>\n",
       "      <th>action</th>\n",
       "      <th></th>\n",
       "      <th></th>\n",
       "    </tr>\n",
       "  </thead>\n",
       "  <tbody>\n",
       "    <tr>\n",
       "      <th>clicked</th>\n",
       "      <td>60.967742</td>\n",
       "      <td>29.032258</td>\n",
       "    </tr>\n",
       "    <tr>\n",
       "      <th>not_clicked</th>\n",
       "      <td>149.032258</td>\n",
       "      <td>70.967742</td>\n",
       "    </tr>\n",
       "  </tbody>\n",
       "</table>\n",
       "</div>"
      ],
      "text/plain": [
       "              variant A  variant B\n",
       "action                            \n",
       "clicked       60.967742  29.032258\n",
       "not_clicked  149.032258  70.967742"
      ]
     },
     "execution_count": 38,
     "metadata": {},
     "output_type": "execute_result"
    }
   ],
   "source": [
    "# Calculate the expected number of clicks \n",
    "print(\"Expected Results\")\n",
    "results_exp = pd.DataFrame()\n",
    "results_exp[\"action\"] = index \n",
    "results_exp.set_index(\"action\", inplace = True)\n",
    "results_exp[\"variant A\"] = click_total / click_total.sum() * variant_total[\"variant A\"]\n",
    "results_exp[\"variant B\"] = click_total / click_total.sum() * variant_total[\"variant B\"]\n",
    "results_exp"
   ]
  },
  {
   "cell_type": "code",
   "execution_count": 39,
   "metadata": {},
   "outputs": [
    {
     "name": "stdout",
     "output_type": "stream",
     "text": [
      "Square Difference\n"
     ]
    },
    {
     "data": {
      "text/html": [
       "<div>\n",
       "<style scoped>\n",
       "    .dataframe tbody tr th:only-of-type {\n",
       "        vertical-align: middle;\n",
       "    }\n",
       "\n",
       "    .dataframe tbody tr th {\n",
       "        vertical-align: top;\n",
       "    }\n",
       "\n",
       "    .dataframe thead th {\n",
       "        text-align: right;\n",
       "    }\n",
       "</style>\n",
       "<table border=\"1\" class=\"dataframe\">\n",
       "  <thead>\n",
       "    <tr style=\"text-align: right;\">\n",
       "      <th></th>\n",
       "      <th>variant A</th>\n",
       "      <th>variant B</th>\n",
       "    </tr>\n",
       "    <tr>\n",
       "      <th>action</th>\n",
       "      <th></th>\n",
       "      <th></th>\n",
       "    </tr>\n",
       "  </thead>\n",
       "  <tbody>\n",
       "    <tr>\n",
       "      <th>clicked</th>\n",
       "      <td>1.338112</td>\n",
       "      <td>2.810036</td>\n",
       "    </tr>\n",
       "    <tr>\n",
       "      <th>not_clicked</th>\n",
       "      <td>0.547410</td>\n",
       "      <td>1.149560</td>\n",
       "    </tr>\n",
       "  </tbody>\n",
       "</table>\n",
       "</div>"
      ],
      "text/plain": [
       "             variant A  variant B\n",
       "action                           \n",
       "clicked       1.338112   2.810036\n",
       "not_clicked   0.547410   1.149560"
      ]
     },
     "execution_count": 39,
     "metadata": {},
     "output_type": "execute_result"
    }
   ],
   "source": [
    "# Calculate the square difference\n",
    "print(\"Square Difference\")\n",
    "squared_difference = (results_obs - results_exp)**2 / results_exp\n",
    "squared_difference"
   ]
  },
  {
   "cell_type": "code",
   "execution_count": 40,
   "metadata": {},
   "outputs": [
    {
     "name": "stdout",
     "output_type": "stream",
     "text": [
      "Chi2 Statistic Value: 5.845117845117846\n"
     ]
    }
   ],
   "source": [
    "chi_2_stat = squared_difference.sum().sum()\n",
    "print(f\"Chi2 Statistic Value: {chi_2_stat}\")"
   ]
  },
  {
   "cell_type": "markdown",
   "metadata": {},
   "source": [
    "Now, we calculate the p value using this Chi2 statistic"
   ]
  },
  {
   "cell_type": "code",
   "execution_count": 41,
   "metadata": {},
   "outputs": [
    {
     "name": "stdout",
     "output_type": "stream",
     "text": [
      "Degrees of Freedom: 1\n"
     ]
    }
   ],
   "source": [
    "# Degrees of Freedom \n",
    "dof = (results_obs.shape[0] - 1) * (results_obs.shape[1] - 1)\n",
    "print(f\"Degrees of Freedom: {dof}\")"
   ]
  },
  {
   "cell_type": "code",
   "execution_count": 42,
   "metadata": {},
   "outputs": [
    {
     "name": "stdout",
     "output_type": "stream",
     "text": [
      "The p value is: 0.015620327818585281\n"
     ]
    }
   ],
   "source": [
    "# Use the Survival function of (1-cdf) to get the p-value\n",
    "p_value = chi2.sf(chi_2_stat, dof)\n",
    "print(f\"The p value is: {p_value}\")"
   ]
  },
  {
   "cell_type": "code",
   "execution_count": 43,
   "metadata": {},
   "outputs": [
    {
     "name": "stdout",
     "output_type": "stream",
     "text": [
      "The null hyphotesis is rejected\n"
     ]
    }
   ],
   "source": [
    "p_value_threshold = 0.05\n",
    "if p_value < p_value_threshold: \n",
    "    print(\"The null hyphotesis is rejected\")\n",
    "else: \n",
    "    print(\"Not enough evidence to reject the null hyphotesis\")"
   ]
  },
  {
   "cell_type": "markdown",
   "metadata": {},
   "source": [
    "### Using Scipy"
   ]
  },
  {
   "cell_type": "code",
   "execution_count": 44,
   "metadata": {},
   "outputs": [
    {
     "data": {
      "text/plain": [
       "Chi2ContingencyResult(statistic=5.845117845117845, pvalue=0.015620327818585326, dof=1, expected_freq=array([[ 60.96774194,  29.03225806],\n",
       "       [149.03225806,  70.96774194]]))"
      ]
     },
     "execution_count": 44,
     "metadata": {},
     "output_type": "execute_result"
    }
   ],
   "source": [
    "test_results = chi2_contingency(results_obs, correction=False)\n",
    "test_results"
   ]
  },
  {
   "cell_type": "code",
   "execution_count": 45,
   "metadata": {},
   "outputs": [
    {
     "name": "stdout",
     "output_type": "stream",
     "text": [
      "The null hyphotesis is rejected\n"
     ]
    }
   ],
   "source": [
    "p_value_threshold = 0.05\n",
    "if test_results.pvalue < p_value_threshold: \n",
    "    print(\"The null hyphotesis is rejected\")\n",
    "else: \n",
    "    print(\"Not enough evidence to reject the null hyphotesis\")\n"
   ]
  },
  {
   "cell_type": "code",
   "execution_count": null,
   "metadata": {},
   "outputs": [],
   "source": []
  }
 ],
 "metadata": {
  "kernelspec": {
   "display_name": "tensorflow",
   "language": "python",
   "name": "python3"
  },
  "language_info": {
   "codemirror_mode": {
    "name": "ipython",
    "version": 3
   },
   "file_extension": ".py",
   "mimetype": "text/x-python",
   "name": "python",
   "nbconvert_exporter": "python",
   "pygments_lexer": "ipython3",
   "version": "3.9.16"
  }
 },
 "nbformat": 4,
 "nbformat_minor": 2
}
