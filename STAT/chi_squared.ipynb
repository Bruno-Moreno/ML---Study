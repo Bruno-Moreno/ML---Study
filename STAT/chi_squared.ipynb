{
 "cells": [
  {
   "cell_type": "markdown",
   "metadata": {},
   "source": [
    "# $\\chi^2$ -  Hyphotesis Testing"
   ]
  },
  {
   "cell_type": "markdown",
   "metadata": {},
   "source": [
    "## Introduction and Formulation"
   ]
  },
  {
   "cell_type": "markdown",
   "metadata": {},
   "source": [
    "The $\\chi^2$ distribution is the result of adding independent standard normal random variables. Let $Z_i$ from $i = 1 \\dots n$ normal independent random variables. Define\n",
    "$$ Q = \\sum_{i=1}^{n} Z_i^2 $$\n",
    "Then we say that $Q \\sim \\chi_n^2$ whit $n$ degrees of freedom. "
   ]
  },
  {
   "cell_type": "markdown",
   "metadata": {},
   "source": [
    "## Hyphotesis Testing "
   ]
  },
  {
   "cell_type": "markdown",
   "metadata": {},
   "source": [
    "This distribution is widely used for Hyphotesis Testing. Suppose that I have a survey with $X = (X_1 , \\dots, X_n)$ observations of $X \\sim Bernoulli(p)$ (Null Hyphotesis). \n",
    "\n",
    " - The real number of observations of class 1 is $\\sum_{i=1}^n X_i = o_1$ and $o_0 = n - o_1$.\n",
    " - The expected number of observations is $m_1 = np$ and $m_0 = n(1-p)$ (under the null hyphotesis)\n",
    "\n",
    "If $n$ is a big number, then by TCL $O_1 = \\sum_{i=1}^n X_i \\sim \\mathcal{N}(np , np(1-p))$, in other words,  \n",
    "$$ \\frac{\\sum_{i=1}^{n}X_i - np}{\\sqrt{np(1-p)}} \\sim \\mathcal{N}(0, 1)$$"
   ]
  },
  {
   "cell_type": "markdown",
   "metadata": {
    "vscode": {
     "languageId": "plaintext"
    }
   },
   "source": [
    "Raised by 2, we get\n",
    "\n",
    "$$ \\frac{(\\sum_{i=1}^{n}X_i - np)^2}{np(1-p)} \\sim \\chi^2_{1}$$\n",
    "\n",
    "Rewriting this expression for the Bernoulli case we get \n",
    "\n",
    "$$ \\frac{((n-\\sum_{i=1}^n X_i) - n(1-p))^2}{n(1-p)} + \\frac{(\\sum_{i=1}^n X_i - np)^2}{np} \\sim \\chi^2_{1}$$\n",
    "\n",
    "Replacing with the variable definitions above we get \n",
    "\n",
    "$$ \\frac{(o_0 - m_0)^2}{m_0} + \\frac{(o_1 - m_1)^2}{m_1} \\sim \\chi^2_{1} $$ \n",
    "\n",
    "And for the general case with $k$ classes the result stands for the next formula \n",
    "\n",
    "$$ \\sum_{j=1}^{k}\\frac{(o_j - m_j)^2}{m_j} \\sim \\chi^2_{k-1}$$ \n",
    "\n"
   ]
  },
  {
   "cell_type": "markdown",
   "metadata": {},
   "source": [
    "## Implementation\n",
    "\n",
    "Suppose that I have an AB Testing with the next results: \n",
    "\n"
   ]
  },
  {
   "cell_type": "code",
   "execution_count": null,
   "metadata": {
    "vscode": {
     "languageId": "plaintext"
    }
   },
   "outputs": [],
   "source": []
  },
  {
   "cell_type": "code",
   "execution_count": null,
   "metadata": {
    "vscode": {
     "languageId": "plaintext"
    }
   },
   "outputs": [],
   "source": []
  },
  {
   "cell_type": "code",
   "execution_count": null,
   "metadata": {
    "vscode": {
     "languageId": "plaintext"
    }
   },
   "outputs": [],
   "source": []
  },
  {
   "cell_type": "markdown",
   "metadata": {},
   "source": []
  }
 ],
 "metadata": {
  "language_info": {
   "name": "python"
  }
 },
 "nbformat": 4,
 "nbformat_minor": 2
}
