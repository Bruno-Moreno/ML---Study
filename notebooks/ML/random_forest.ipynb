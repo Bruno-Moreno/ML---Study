{
 "cells": [
  {
   "cell_type": "markdown",
   "id": "3b204eb5",
   "metadata": {},
   "source": [
    "# Random Forest \n",
    "\n",
    "## Important Parameters\n",
    "\n",
    " - **n_estimators**: Controls the number of decision trees in the forest. Default: 100. \n",
    " - **max_depth**: Controls the max number of nodes and layers of the tree. Default: Until all leaves are pure or until all leaves contain less than 2 samples.\n",
    "\n",
    "## Relevant Information: \n",
    " - Random Forest are **not sensitive to feature scaling.**\n",
    " - Approx Complexity $O(n_{\\text{estimators}} \\cdot NM \\cdot \\log(N))$ where $M$ number of attributes and $N$ the number of instances.  \n",
    " \n",
    "\n",
    "## Implementation\n",
    "\n",
    "We are going to work with the [Digits](https://scikit-learn.org/stable/modules/generated/sklearn.datasets.load_digits.html) Dataset\n",
    "\n"
   ]
  },
  {
   "cell_type": "code",
   "execution_count": 45,
   "id": "672b79a7",
   "metadata": {},
   "outputs": [],
   "source": [
    "#Import usual libraries\n",
    "import numpy as np \n",
    "import pandas as pd \n",
    "import matplotlib.pyplot as plt \n",
    "\n",
    "#Import usual functions\n",
    "from sklearn.model_selection import train_test_split\n",
    "from sklearn.metrics import classification_report , accuracy_score\n",
    "\n",
    "#Import utils\n",
    "from utils.plot import confusion_matrix_custom\n",
    "\n",
    "\n",
    "#Import required libraries for this notebook\n",
    "from sklearn.datasets import load_iris, load_digits\n",
    "from sklearn.tree import DecisionTreeClassifier\n",
    "from sklearn.ensemble import RandomForestClassifier"
   ]
  },
  {
   "cell_type": "code",
   "execution_count": 2,
   "id": "4a1bacc1",
   "metadata": {},
   "outputs": [
    {
     "data": {
      "text/html": [
       "<div>\n",
       "<style scoped>\n",
       "    .dataframe tbody tr th:only-of-type {\n",
       "        vertical-align: middle;\n",
       "    }\n",
       "\n",
       "    .dataframe tbody tr th {\n",
       "        vertical-align: top;\n",
       "    }\n",
       "\n",
       "    .dataframe thead th {\n",
       "        text-align: right;\n",
       "    }\n",
       "</style>\n",
       "<table border=\"1\" class=\"dataframe\">\n",
       "  <thead>\n",
       "    <tr style=\"text-align: right;\">\n",
       "      <th></th>\n",
       "      <th>pixel_0_0</th>\n",
       "      <th>pixel_0_1</th>\n",
       "      <th>pixel_0_2</th>\n",
       "      <th>pixel_0_3</th>\n",
       "      <th>pixel_0_4</th>\n",
       "      <th>pixel_0_5</th>\n",
       "      <th>pixel_0_6</th>\n",
       "      <th>pixel_0_7</th>\n",
       "      <th>pixel_1_0</th>\n",
       "      <th>pixel_1_1</th>\n",
       "      <th>...</th>\n",
       "      <th>pixel_6_7</th>\n",
       "      <th>pixel_7_0</th>\n",
       "      <th>pixel_7_1</th>\n",
       "      <th>pixel_7_2</th>\n",
       "      <th>pixel_7_3</th>\n",
       "      <th>pixel_7_4</th>\n",
       "      <th>pixel_7_5</th>\n",
       "      <th>pixel_7_6</th>\n",
       "      <th>pixel_7_7</th>\n",
       "      <th>target</th>\n",
       "    </tr>\n",
       "  </thead>\n",
       "  <tbody>\n",
       "    <tr>\n",
       "      <th>0</th>\n",
       "      <td>0.0</td>\n",
       "      <td>0.0</td>\n",
       "      <td>5.0</td>\n",
       "      <td>13.0</td>\n",
       "      <td>9.0</td>\n",
       "      <td>1.0</td>\n",
       "      <td>0.0</td>\n",
       "      <td>0.0</td>\n",
       "      <td>0.0</td>\n",
       "      <td>0.0</td>\n",
       "      <td>...</td>\n",
       "      <td>0.0</td>\n",
       "      <td>0.0</td>\n",
       "      <td>0.0</td>\n",
       "      <td>6.0</td>\n",
       "      <td>13.0</td>\n",
       "      <td>10.0</td>\n",
       "      <td>0.0</td>\n",
       "      <td>0.0</td>\n",
       "      <td>0.0</td>\n",
       "      <td>0</td>\n",
       "    </tr>\n",
       "    <tr>\n",
       "      <th>1</th>\n",
       "      <td>0.0</td>\n",
       "      <td>0.0</td>\n",
       "      <td>0.0</td>\n",
       "      <td>12.0</td>\n",
       "      <td>13.0</td>\n",
       "      <td>5.0</td>\n",
       "      <td>0.0</td>\n",
       "      <td>0.0</td>\n",
       "      <td>0.0</td>\n",
       "      <td>0.0</td>\n",
       "      <td>...</td>\n",
       "      <td>0.0</td>\n",
       "      <td>0.0</td>\n",
       "      <td>0.0</td>\n",
       "      <td>0.0</td>\n",
       "      <td>11.0</td>\n",
       "      <td>16.0</td>\n",
       "      <td>10.0</td>\n",
       "      <td>0.0</td>\n",
       "      <td>0.0</td>\n",
       "      <td>1</td>\n",
       "    </tr>\n",
       "    <tr>\n",
       "      <th>2</th>\n",
       "      <td>0.0</td>\n",
       "      <td>0.0</td>\n",
       "      <td>0.0</td>\n",
       "      <td>4.0</td>\n",
       "      <td>15.0</td>\n",
       "      <td>12.0</td>\n",
       "      <td>0.0</td>\n",
       "      <td>0.0</td>\n",
       "      <td>0.0</td>\n",
       "      <td>0.0</td>\n",
       "      <td>...</td>\n",
       "      <td>0.0</td>\n",
       "      <td>0.0</td>\n",
       "      <td>0.0</td>\n",
       "      <td>0.0</td>\n",
       "      <td>3.0</td>\n",
       "      <td>11.0</td>\n",
       "      <td>16.0</td>\n",
       "      <td>9.0</td>\n",
       "      <td>0.0</td>\n",
       "      <td>2</td>\n",
       "    </tr>\n",
       "    <tr>\n",
       "      <th>3</th>\n",
       "      <td>0.0</td>\n",
       "      <td>0.0</td>\n",
       "      <td>7.0</td>\n",
       "      <td>15.0</td>\n",
       "      <td>13.0</td>\n",
       "      <td>1.0</td>\n",
       "      <td>0.0</td>\n",
       "      <td>0.0</td>\n",
       "      <td>0.0</td>\n",
       "      <td>8.0</td>\n",
       "      <td>...</td>\n",
       "      <td>0.0</td>\n",
       "      <td>0.0</td>\n",
       "      <td>0.0</td>\n",
       "      <td>7.0</td>\n",
       "      <td>13.0</td>\n",
       "      <td>13.0</td>\n",
       "      <td>9.0</td>\n",
       "      <td>0.0</td>\n",
       "      <td>0.0</td>\n",
       "      <td>3</td>\n",
       "    </tr>\n",
       "    <tr>\n",
       "      <th>4</th>\n",
       "      <td>0.0</td>\n",
       "      <td>0.0</td>\n",
       "      <td>0.0</td>\n",
       "      <td>1.0</td>\n",
       "      <td>11.0</td>\n",
       "      <td>0.0</td>\n",
       "      <td>0.0</td>\n",
       "      <td>0.0</td>\n",
       "      <td>0.0</td>\n",
       "      <td>0.0</td>\n",
       "      <td>...</td>\n",
       "      <td>0.0</td>\n",
       "      <td>0.0</td>\n",
       "      <td>0.0</td>\n",
       "      <td>0.0</td>\n",
       "      <td>2.0</td>\n",
       "      <td>16.0</td>\n",
       "      <td>4.0</td>\n",
       "      <td>0.0</td>\n",
       "      <td>0.0</td>\n",
       "      <td>4</td>\n",
       "    </tr>\n",
       "  </tbody>\n",
       "</table>\n",
       "<p>5 rows × 65 columns</p>\n",
       "</div>"
      ],
      "text/plain": [
       "   pixel_0_0  pixel_0_1  pixel_0_2  pixel_0_3  pixel_0_4  pixel_0_5  \\\n",
       "0        0.0        0.0        5.0       13.0        9.0        1.0   \n",
       "1        0.0        0.0        0.0       12.0       13.0        5.0   \n",
       "2        0.0        0.0        0.0        4.0       15.0       12.0   \n",
       "3        0.0        0.0        7.0       15.0       13.0        1.0   \n",
       "4        0.0        0.0        0.0        1.0       11.0        0.0   \n",
       "\n",
       "   pixel_0_6  pixel_0_7  pixel_1_0  pixel_1_1  ...  pixel_6_7  pixel_7_0  \\\n",
       "0        0.0        0.0        0.0        0.0  ...        0.0        0.0   \n",
       "1        0.0        0.0        0.0        0.0  ...        0.0        0.0   \n",
       "2        0.0        0.0        0.0        0.0  ...        0.0        0.0   \n",
       "3        0.0        0.0        0.0        8.0  ...        0.0        0.0   \n",
       "4        0.0        0.0        0.0        0.0  ...        0.0        0.0   \n",
       "\n",
       "   pixel_7_1  pixel_7_2  pixel_7_3  pixel_7_4  pixel_7_5  pixel_7_6  \\\n",
       "0        0.0        6.0       13.0       10.0        0.0        0.0   \n",
       "1        0.0        0.0       11.0       16.0       10.0        0.0   \n",
       "2        0.0        0.0        3.0       11.0       16.0        9.0   \n",
       "3        0.0        7.0       13.0       13.0        9.0        0.0   \n",
       "4        0.0        0.0        2.0       16.0        4.0        0.0   \n",
       "\n",
       "   pixel_7_7  target  \n",
       "0        0.0       0  \n",
       "1        0.0       1  \n",
       "2        0.0       2  \n",
       "3        0.0       3  \n",
       "4        0.0       4  \n",
       "\n",
       "[5 rows x 65 columns]"
      ]
     },
     "execution_count": 2,
     "metadata": {},
     "output_type": "execute_result"
    }
   ],
   "source": [
    "#Load the dataset \n",
    "digits = load_digits()\n",
    "df = pd.DataFrame(data=digits.data, columns=digits.feature_names)\n",
    "df[\"target\"] = digits.target\n",
    "df.head()"
   ]
  },
  {
   "cell_type": "markdown",
   "id": "4e96fe7c",
   "metadata": {},
   "source": [
    "### Usage"
   ]
  },
  {
   "cell_type": "code",
   "execution_count": 3,
   "id": "0dbeab1a",
   "metadata": {},
   "outputs": [],
   "source": [
    "#Divide the data \n",
    "X_train, X_test, y_train, y_test = train_test_split(df.drop(columns=[\"target\"]), df[\"target\"], test_size=0.333, stratify = df[\"target\"], random_state=666)\n",
    "#Create the model\n",
    "clf = RandomForestClassifier(random_state = 666)\n",
    "#Fit the data\n",
    "clf.fit(X_train,y_train)\n",
    "#Make a prediction\n",
    "y_pred = clf.predict(X_test)"
   ]
  },
  {
   "cell_type": "markdown",
   "id": "69ee992d",
   "metadata": {},
   "source": [
    "### Show Performance "
   ]
  },
  {
   "cell_type": "code",
   "execution_count": 4,
   "id": "a0c563f0",
   "metadata": {},
   "outputs": [
    {
     "name": "stdout",
     "output_type": "stream",
     "text": [
      "              precision    recall  f1-score   support\n",
      "\n",
      "           0       0.98      0.98      0.98        59\n",
      "           1       0.98      1.00      0.99        61\n",
      "           2       1.00      1.00      1.00        59\n",
      "           3       0.98      0.95      0.97        61\n",
      "           4       0.97      0.98      0.98        60\n",
      "           5       0.95      0.98      0.97        61\n",
      "           6       0.98      0.98      0.98        60\n",
      "           7       0.97      1.00      0.98        60\n",
      "           8       1.00      0.91      0.95        58\n",
      "           9       0.95      0.97      0.96        60\n",
      "\n",
      "    accuracy                           0.98       599\n",
      "   macro avg       0.98      0.98      0.98       599\n",
      "weighted avg       0.98      0.98      0.98       599\n",
      "\n"
     ]
    },
    {
     "data": {
      "image/png": "[encoded data removed]",
      "text/plain": [
       "<Figure size 640x480 with 2 Axes>"
      ]
     },
     "metadata": {},
     "output_type": "display_data"
    }
   ],
   "source": [
    "#Change of notation\n",
    "y_real = y_test\n",
    "\n",
    "#Showing performance with a confusion matrix\n",
    "confusion_matrix_custom(y_real,y_pred)\n",
    "\n",
    "#Showing performance with metrics\n",
    "print(classification_report(y_real , y_pred))\n"
   ]
  },
  {
   "cell_type": "markdown",
   "id": "9705c988",
   "metadata": {},
   "source": [
    "Better performance when compared to a Decision Tree \n",
    "\n",
    "### Showing the n_estimators effect"
   ]
  },
  {
   "cell_type": "code",
   "execution_count": 12,
   "id": "f849f722",
   "metadata": {},
   "outputs": [
    {
     "data": {
      "text/plain": [
       "Text(0.5, 1.0, 'Random Forest Algorithm')"
      ]
     },
     "execution_count": 12,
     "metadata": {},
     "output_type": "execute_result"
    },
    {
     "data": {
      "image/png": "[encoded data removed]",
      "text/plain": [
       "<Figure size 640x480 with 1 Axes>"
      ]
     },
     "metadata": {},
     "output_type": "display_data"
    }
   ],
   "source": [
    "#Creating a list of n_estimators options\n",
    "n_estimators_list = [1, 2 , 3, 4, 5, 6, 7, 8, 9, 10, 11, 12, 13, 14, 15]\n",
    "accuracy_train_list = []\n",
    "accuracy_test_list = []\n",
    "\n",
    "#Creating the models with fixed n_estimators\n",
    "for estimators in n_estimators_list:\n",
    "    clf = RandomForestClassifier(n_estimators=estimators, random_state = 666)\n",
    "    clf.fit(X_train,y_train)\n",
    "    y_pred_train = clf.predict(X_train)\n",
    "    y_pred_test = clf.predict(X_test)\n",
    "    accuracy_train_list.append(accuracy_score(y_train,y_pred_train))\n",
    "    accuracy_test_list.append(accuracy_score(y_test,y_pred_test))\n",
    "\n",
    "#Plotting\n",
    "plt.plot(n_estimators_list,accuracy_train_list,label = \"Train\")\n",
    "plt.plot(n_estimators_list,accuracy_test_list,label = \"Test\")\n",
    "plt.legend()\n",
    "plt.xlabel(\"N Estimators\")\n",
    "plt.ylabel(\"Accuracy\")\n",
    "plt.title(\"Random Forest Algorithm\")\n",
    "# plt.savefig(\"img/n_estimators_random_forest.png\", dpi = 300)\n",
    "\n"
   ]
  },
  {
   "cell_type": "markdown",
   "id": "a2754099",
   "metadata": {},
   "source": [
    "# Balanced Random Forest \n",
    "\n",
    "Same implementation as the Random Forest but each bootstrap sample will be further **resampled** to achieve the *sampling_strategy* (under-sampling or over-sampling) Default: Remove random values from all classes but the minority (under-sampling). "
   ]
  },
  {
   "cell_type": "code",
   "execution_count": 16,
   "id": "c637550e",
   "metadata": {},
   "outputs": [],
   "source": [
    "#Import required libraries for this notebook\n",
    "from sklearn.datasets import load_iris, load_digits\n",
    "from imblearn.ensemble import BalancedRandomForestClassifier"
   ]
  },
  {
   "cell_type": "markdown",
   "id": "022706eb",
   "metadata": {},
   "source": [
    "### Usage"
   ]
  },
  {
   "cell_type": "code",
   "execution_count": 17,
   "id": "0953f04d",
   "metadata": {},
   "outputs": [
    {
     "name": "stderr",
     "output_type": "stream",
     "text": [
      "c:\\Users\\bruno\\anaconda3\\lib\\site-packages\\imblearn\\ensemble\\_forest.py:577: FutureWarning: The default of `sampling_strategy` will change from `'auto'` to `'all'` in version 0.13. This change will follow the implementation proposed in the original paper. Set to `'all'` to silence this warning and adopt the future behaviour.\n",
      "  warn(\n",
      "c:\\Users\\bruno\\anaconda3\\lib\\site-packages\\imblearn\\ensemble\\_forest.py:589: FutureWarning: The default of `replacement` will change from `False` to `True` in version 0.13. This change will follow the implementation proposed in the original paper. Set to `True` to silence this warning and adopt the future behaviour.\n",
      "  warn(\n",
      "c:\\Users\\bruno\\anaconda3\\lib\\site-packages\\imblearn\\ensemble\\_forest.py:601: FutureWarning: The default of `bootstrap` will change from `True` to `False` in version 0.13. This change will follow the implementation proposed in the original paper. Set to `False` to silence this warning and adopt the future behaviour.\n",
      "  warn(\n"
     ]
    }
   ],
   "source": [
    "#Divide the data \n",
    "X_train, X_test, y_train, y_test = train_test_split(df.drop(columns=[\"target\"]), df[\"target\"], test_size=0.333, stratify = df[\"target\"], random_state=666)\n",
    "#Create the model\n",
    "clf = BalancedRandomForestClassifier(random_state = 666)\n",
    "#Fit the data\n",
    "clf.fit(X_train,y_train)\n",
    "#Make a prediction\n",
    "y_pred = clf.predict(X_test)"
   ]
  },
  {
   "cell_type": "markdown",
   "id": "6e662bc2",
   "metadata": {},
   "source": [
    "### Show Performance"
   ]
  },
  {
   "cell_type": "code",
   "execution_count": 18,
   "id": "6b78b5f1",
   "metadata": {},
   "outputs": [
    {
     "name": "stdout",
     "output_type": "stream",
     "text": [
      "              precision    recall  f1-score   support\n",
      "\n",
      "           0       0.98      0.98      0.98        59\n",
      "           1       0.98      1.00      0.99        61\n",
      "           2       0.97      1.00      0.98        59\n",
      "           3       0.97      0.95      0.96        61\n",
      "           4       0.98      0.98      0.98        60\n",
      "           5       0.95      0.98      0.97        61\n",
      "           6       1.00      0.98      0.99        60\n",
      "           7       0.95      1.00      0.98        60\n",
      "           8       0.96      0.93      0.95        58\n",
      "           9       0.98      0.92      0.95        60\n",
      "\n",
      "    accuracy                           0.97       599\n",
      "   macro avg       0.97      0.97      0.97       599\n",
      "weighted avg       0.97      0.97      0.97       599\n",
      "\n"
     ]
    },
    {
     "data": {
      "image/png": "[encoded data removed]",
      "text/plain": [
       "<Figure size 640x480 with 2 Axes>"
      ]
     },
     "metadata": {},
     "output_type": "display_data"
    }
   ],
   "source": [
    "#Change of notation\n",
    "y_real = y_test\n",
    "\n",
    "#Showing performance with a confusion matrix\n",
    "confusion_matrix_custom(y_real,y_pred)\n",
    "\n",
    "#Showing performance with metrics\n",
    "print(classification_report(y_real , y_pred))"
   ]
  },
  {
   "cell_type": "markdown",
   "id": "a0417627",
   "metadata": {},
   "source": [
    "**Same results as the Random Forest because the dataset was balanced.**"
   ]
  }
 ],
 "metadata": {
  "interpreter": {
   "hash": "86ced299d573a58fc1d464bd2f917835a691b9d9cefee14c59fce60008360703"
  },
  "kernelspec": {
   "display_name": "Python 3.9.7 ('base')",
   "language": "python",
   "name": "python3"
  },
  "language_info": {
   "codemirror_mode": {
    "name": "ipython",
    "version": 3
   },
   "file_extension": ".py",
   "mimetype": "text/x-python",
   "name": "python",
   "nbconvert_exporter": "python",
   "pygments_lexer": "ipython3",
   "version": "3.9.13"
  }
 },
 "nbformat": 4,
 "nbformat_minor": 5
}
