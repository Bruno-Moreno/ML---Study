{
 "cells": [
  {
   "cell_type": "markdown",
   "metadata": {},
   "source": [
    "# AB Testing"
   ]
  },
  {
   "cell_type": "code",
   "execution_count": 1,
   "metadata": {},
   "outputs": [],
   "source": [
    "import numpy as np\n",
    "import pandas as pd \n",
    "\n",
    "from sklearn.model_selection import train_test_split\n",
    "\n",
    "# library for chi2 testing \n",
    "from scipy.stats import chi2 \n",
    "from scipy.stats import chi2_contingency"
   ]
  },
  {
   "cell_type": "markdown",
   "metadata": {},
   "source": [
    "## Data"
   ]
  },
  {
   "cell_type": "code",
   "execution_count": 16,
   "metadata": {},
   "outputs": [
    {
     "data": {
      "text/html": [
       "<div>\n",
       "<style scoped>\n",
       "    .dataframe tbody tr th:only-of-type {\n",
       "        vertical-align: middle;\n",
       "    }\n",
       "\n",
       "    .dataframe tbody tr th {\n",
       "        vertical-align: top;\n",
       "    }\n",
       "\n",
       "    .dataframe thead th {\n",
       "        text-align: right;\n",
       "    }\n",
       "</style>\n",
       "<table border=\"1\" class=\"dataframe\">\n",
       "  <thead>\n",
       "    <tr style=\"text-align: right;\">\n",
       "      <th></th>\n",
       "      <th>age</th>\n",
       "    </tr>\n",
       "  </thead>\n",
       "  <tbody>\n",
       "    <tr>\n",
       "      <th>0</th>\n",
       "      <td>22</td>\n",
       "    </tr>\n",
       "    <tr>\n",
       "      <th>1</th>\n",
       "      <td>65</td>\n",
       "    </tr>\n",
       "    <tr>\n",
       "      <th>2</th>\n",
       "      <td>50</td>\n",
       "    </tr>\n",
       "    <tr>\n",
       "      <th>3</th>\n",
       "      <td>82</td>\n",
       "    </tr>\n",
       "    <tr>\n",
       "      <th>4</th>\n",
       "      <td>50</td>\n",
       "    </tr>\n",
       "  </tbody>\n",
       "</table>\n",
       "</div>"
      ],
      "text/plain": [
       "   age\n",
       "0   22\n",
       "1   65\n",
       "2   50\n",
       "3   82\n",
       "4   50"
      ]
     },
     "execution_count": 16,
     "metadata": {},
     "output_type": "execute_result"
    }
   ],
   "source": [
    "np.random.seed(666)\n",
    "\n",
    "tot_n = 1200\n",
    "\n",
    "df = pd.DataFrame()\n",
    "df[\"age\"] = np.random.randint(20, 90, tot_n)\n",
    "df.head()"
   ]
  },
  {
   "cell_type": "markdown",
   "metadata": {},
   "source": [
    "## Experiment Design"
   ]
  },
  {
   "cell_type": "code",
   "execution_count": 19,
   "metadata": {},
   "outputs": [
    {
     "name": "stdout",
     "output_type": "stream",
     "text": [
      "Randomized:\n",
      "control.shape = (200, 1)\n",
      "treatment.shape = (1000, 1)\n",
      "control.age.mean() = 55.47\n",
      "treatment.age.mean()  = 54.508\n",
      "\n",
      "Stratified:\n",
      "control.shape = (200, 1)\n",
      "treatment.shape = (1000, 1)\n",
      "control.age.mean() = 54.5\n",
      "treatment.age.mean()  = 54.702\n"
     ]
    }
   ],
   "source": [
    "np.random.seed(666)\n",
    "\n",
    "# Split the groups such that ages are well divided \n",
    "control_size = 200\n",
    "treatment_size = 1000 \n",
    "\n",
    "# Randomized\n",
    "tot_index = list(range(0, control_size + treatment_size))\n",
    "control_index = list(np.random.choice(tot_index, size = control_size, replace = False))\n",
    "treatment_index = list(set(tot_index) - set(control_index))\n",
    "\n",
    "control = df.iloc[control_index].copy()\n",
    "treatment = df.iloc[treatment_index].copy()\n",
    "\n",
    "print('Randomized:')\n",
    "print(f'{control.shape = }')\n",
    "print(f'{treatment.shape = }')\n",
    "print(f'{control.age.mean() = }')\n",
    "print(f'{treatment.age.mean()  = }\\n')\n",
    "\n",
    "# Stratified\n",
    "treatment, control = train_test_split(df, test_size=control_size / (control_size + treatment_size), random_state=666, shuffle = True, stratify=df.age)\n",
    "\n",
    "print('Stratified:')\n",
    "print(f'{control.shape = }')\n",
    "print(f'{treatment.shape = }')\n",
    "print(f'{control.age.mean() = }')\n",
    "print(f'{treatment.age.mean()  = }')\n"
   ]
  },
  {
   "cell_type": "code",
   "execution_count": 26,
   "metadata": {},
   "outputs": [
    {
     "data": {
      "text/html": [
       "<div>\n",
       "<style scoped>\n",
       "    .dataframe tbody tr th:only-of-type {\n",
       "        vertical-align: middle;\n",
       "    }\n",
       "\n",
       "    .dataframe tbody tr th {\n",
       "        vertical-align: top;\n",
       "    }\n",
       "\n",
       "    .dataframe thead th {\n",
       "        text-align: right;\n",
       "    }\n",
       "</style>\n",
       "<table border=\"1\" class=\"dataframe\">\n",
       "  <thead>\n",
       "    <tr style=\"text-align: right;\">\n",
       "      <th></th>\n",
       "      <th>group</th>\n",
       "      <th>result</th>\n",
       "      <th>result_value</th>\n",
       "    </tr>\n",
       "  </thead>\n",
       "  <tbody>\n",
       "    <tr>\n",
       "      <th>0</th>\n",
       "      <td>treatment</td>\n",
       "      <td>click</td>\n",
       "      <td>1</td>\n",
       "    </tr>\n",
       "    <tr>\n",
       "      <th>1</th>\n",
       "      <td>treatment</td>\n",
       "      <td>click</td>\n",
       "      <td>1</td>\n",
       "    </tr>\n",
       "    <tr>\n",
       "      <th>2</th>\n",
       "      <td>treatment</td>\n",
       "      <td>click</td>\n",
       "      <td>1</td>\n",
       "    </tr>\n",
       "    <tr>\n",
       "      <th>3</th>\n",
       "      <td>treatment</td>\n",
       "      <td>click</td>\n",
       "      <td>1</td>\n",
       "    </tr>\n",
       "    <tr>\n",
       "      <th>4</th>\n",
       "      <td>treatment</td>\n",
       "      <td>click</td>\n",
       "      <td>1</td>\n",
       "    </tr>\n",
       "    <tr>\n",
       "      <th>...</th>\n",
       "      <td>...</td>\n",
       "      <td>...</td>\n",
       "      <td>...</td>\n",
       "    </tr>\n",
       "    <tr>\n",
       "      <th>1195</th>\n",
       "      <td>control</td>\n",
       "      <td>no click</td>\n",
       "      <td>1</td>\n",
       "    </tr>\n",
       "    <tr>\n",
       "      <th>1196</th>\n",
       "      <td>control</td>\n",
       "      <td>no click</td>\n",
       "      <td>1</td>\n",
       "    </tr>\n",
       "    <tr>\n",
       "      <th>1197</th>\n",
       "      <td>control</td>\n",
       "      <td>no click</td>\n",
       "      <td>1</td>\n",
       "    </tr>\n",
       "    <tr>\n",
       "      <th>1198</th>\n",
       "      <td>control</td>\n",
       "      <td>no click</td>\n",
       "      <td>1</td>\n",
       "    </tr>\n",
       "    <tr>\n",
       "      <th>1199</th>\n",
       "      <td>control</td>\n",
       "      <td>no click</td>\n",
       "      <td>1</td>\n",
       "    </tr>\n",
       "  </tbody>\n",
       "</table>\n",
       "<p>1200 rows × 3 columns</p>\n",
       "</div>"
      ],
      "text/plain": [
       "          group    result  result_value\n",
       "0     treatment     click             1\n",
       "1     treatment     click             1\n",
       "2     treatment     click             1\n",
       "3     treatment     click             1\n",
       "4     treatment     click             1\n",
       "...         ...       ...           ...\n",
       "1195    control  no click             1\n",
       "1196    control  no click             1\n",
       "1197    control  no click             1\n",
       "1198    control  no click             1\n",
       "1199    control  no click             1\n",
       "\n",
       "[1200 rows x 3 columns]"
      ]
     },
     "execution_count": 26,
     "metadata": {},
     "output_type": "execute_result"
    }
   ],
   "source": [
    "treatment[\"group\"] = \"treatment\"\n",
    "treatment[\"result\"] = [\"click\"]*int(len(treatment)*0.8) + [\"no click\"]*int(len(treatment)*0.2)\n",
    "control[\"group\"] = \"control\"\n",
    "control[\"result\"] = [\"click\"]*int(len(control)*0.7) + [\"no click\"]*int(len(control)*0.3)\n",
    "\n",
    "data = pd.concat([treatment, control], axis = 0).reset_index(drop = True)\n",
    "data.drop(columns=\"age\", inplace = True)\n",
    "data[\"result_value\"] = 1\n",
    "data\n"
   ]
  },
  {
   "cell_type": "markdown",
   "metadata": {},
   "source": [
    "## Chi Squared Test"
   ]
  },
  {
   "cell_type": "code",
   "execution_count": 28,
   "metadata": {},
   "outputs": [
    {
     "data": {
      "text/html": [
       "<div>\n",
       "<style scoped>\n",
       "    .dataframe tbody tr th:only-of-type {\n",
       "        vertical-align: middle;\n",
       "    }\n",
       "\n",
       "    .dataframe tbody tr th {\n",
       "        vertical-align: top;\n",
       "    }\n",
       "\n",
       "    .dataframe thead th {\n",
       "        text-align: right;\n",
       "    }\n",
       "</style>\n",
       "<table border=\"1\" class=\"dataframe\">\n",
       "  <thead>\n",
       "    <tr style=\"text-align: right;\">\n",
       "      <th></th>\n",
       "      <th>variant A</th>\n",
       "      <th>variant B</th>\n",
       "    </tr>\n",
       "    <tr>\n",
       "      <th>action</th>\n",
       "      <th></th>\n",
       "      <th></th>\n",
       "    </tr>\n",
       "  </thead>\n",
       "  <tbody>\n",
       "    <tr>\n",
       "      <th>click</th>\n",
       "      <td>140</td>\n",
       "      <td>800</td>\n",
       "    </tr>\n",
       "    <tr>\n",
       "      <th>no click</th>\n",
       "      <td>60</td>\n",
       "      <td>200</td>\n",
       "    </tr>\n",
       "  </tbody>\n",
       "</table>\n",
       "</div>"
      ],
      "text/plain": [
       "          variant A  variant B\n",
       "action                        \n",
       "click           140        800\n",
       "no click         60        200"
      ]
     },
     "execution_count": 28,
     "metadata": {},
     "output_type": "execute_result"
    }
   ],
   "source": [
    "data_pivot = data.pivot_table(index = [\"result\"], columns = [\"group\"], aggfunc=\"count\")\n",
    "results_obs = pd.DataFrame(data = data_pivot.values, columns=[\"variant A\", \"variant B\"])\n",
    "index = [\"click\", \"no click\"]\n",
    "results_obs.index = index\n",
    "results_obs.index.name = \"action\"\n",
    "results_obs"
   ]
  },
  {
   "cell_type": "markdown",
   "metadata": {},
   "source": [
    "### Manual Calculation"
   ]
  },
  {
   "cell_type": "code",
   "execution_count": 29,
   "metadata": {},
   "outputs": [
    {
     "data": {
      "text/plain": [
       "variant A     200\n",
       "variant B    1000\n",
       "dtype: int64"
      ]
     },
     "execution_count": 29,
     "metadata": {},
     "output_type": "execute_result"
    }
   ],
   "source": [
    "variant_total = results_obs.sum(axis = 0)\n",
    "variant_total"
   ]
  },
  {
   "cell_type": "code",
   "execution_count": 30,
   "metadata": {},
   "outputs": [
    {
     "data": {
      "text/plain": [
       "action\n",
       "click       940\n",
       "no click    260\n",
       "dtype: int64"
      ]
     },
     "execution_count": 30,
     "metadata": {},
     "output_type": "execute_result"
    }
   ],
   "source": [
    "click_total = results_obs.sum(axis = 1)\n",
    "click_total"
   ]
  },
  {
   "cell_type": "code",
   "execution_count": 31,
   "metadata": {},
   "outputs": [
    {
     "name": "stdout",
     "output_type": "stream",
     "text": [
      "Expected Results\n"
     ]
    },
    {
     "data": {
      "text/html": [
       "<div>\n",
       "<style scoped>\n",
       "    .dataframe tbody tr th:only-of-type {\n",
       "        vertical-align: middle;\n",
       "    }\n",
       "\n",
       "    .dataframe tbody tr th {\n",
       "        vertical-align: top;\n",
       "    }\n",
       "\n",
       "    .dataframe thead th {\n",
       "        text-align: right;\n",
       "    }\n",
       "</style>\n",
       "<table border=\"1\" class=\"dataframe\">\n",
       "  <thead>\n",
       "    <tr style=\"text-align: right;\">\n",
       "      <th></th>\n",
       "      <th>variant A</th>\n",
       "      <th>variant B</th>\n",
       "    </tr>\n",
       "    <tr>\n",
       "      <th>action</th>\n",
       "      <th></th>\n",
       "      <th></th>\n",
       "    </tr>\n",
       "  </thead>\n",
       "  <tbody>\n",
       "    <tr>\n",
       "      <th>click</th>\n",
       "      <td>156.666667</td>\n",
       "      <td>783.333333</td>\n",
       "    </tr>\n",
       "    <tr>\n",
       "      <th>no click</th>\n",
       "      <td>43.333333</td>\n",
       "      <td>216.666667</td>\n",
       "    </tr>\n",
       "  </tbody>\n",
       "</table>\n",
       "</div>"
      ],
      "text/plain": [
       "           variant A   variant B\n",
       "action                          \n",
       "click     156.666667  783.333333\n",
       "no click   43.333333  216.666667"
      ]
     },
     "execution_count": 31,
     "metadata": {},
     "output_type": "execute_result"
    }
   ],
   "source": [
    "# Calculate the expected number of clicks \n",
    "print(\"Expected Results\")\n",
    "results_exp = pd.DataFrame()\n",
    "results_exp[\"action\"] = index \n",
    "results_exp.set_index(\"action\", inplace = True)\n",
    "results_exp[\"variant A\"] = click_total / click_total.sum() * variant_total[\"variant A\"]\n",
    "results_exp[\"variant B\"] = click_total / click_total.sum() * variant_total[\"variant B\"]\n",
    "results_exp"
   ]
  },
  {
   "cell_type": "code",
   "execution_count": 32,
   "metadata": {},
   "outputs": [
    {
     "name": "stdout",
     "output_type": "stream",
     "text": [
      "Square Difference\n"
     ]
    },
    {
     "data": {
      "text/html": [
       "<div>\n",
       "<style scoped>\n",
       "    .dataframe tbody tr th:only-of-type {\n",
       "        vertical-align: middle;\n",
       "    }\n",
       "\n",
       "    .dataframe tbody tr th {\n",
       "        vertical-align: top;\n",
       "    }\n",
       "\n",
       "    .dataframe thead th {\n",
       "        text-align: right;\n",
       "    }\n",
       "</style>\n",
       "<table border=\"1\" class=\"dataframe\">\n",
       "  <thead>\n",
       "    <tr style=\"text-align: right;\">\n",
       "      <th></th>\n",
       "      <th>variant A</th>\n",
       "      <th>variant B</th>\n",
       "    </tr>\n",
       "    <tr>\n",
       "      <th>action</th>\n",
       "      <th></th>\n",
       "      <th></th>\n",
       "    </tr>\n",
       "  </thead>\n",
       "  <tbody>\n",
       "    <tr>\n",
       "      <th>click</th>\n",
       "      <td>1.773050</td>\n",
       "      <td>0.354610</td>\n",
       "    </tr>\n",
       "    <tr>\n",
       "      <th>no click</th>\n",
       "      <td>6.410256</td>\n",
       "      <td>1.282051</td>\n",
       "    </tr>\n",
       "  </tbody>\n",
       "</table>\n",
       "</div>"
      ],
      "text/plain": [
       "          variant A  variant B\n",
       "action                        \n",
       "click      1.773050   0.354610\n",
       "no click   6.410256   1.282051"
      ]
     },
     "execution_count": 32,
     "metadata": {},
     "output_type": "execute_result"
    }
   ],
   "source": [
    "# Calculate the square difference\n",
    "print(\"Square Difference\")\n",
    "squared_difference = (results_obs - results_exp)**2 / results_exp\n",
    "squared_difference"
   ]
  },
  {
   "cell_type": "code",
   "execution_count": 33,
   "metadata": {},
   "outputs": [
    {
     "name": "stdout",
     "output_type": "stream",
     "text": [
      "Chi2 Statistic Value: 9.819967266775775\n"
     ]
    }
   ],
   "source": [
    "chi_2_stat = squared_difference.sum().sum()\n",
    "print(f\"Chi2 Statistic Value: {chi_2_stat}\")"
   ]
  },
  {
   "cell_type": "markdown",
   "metadata": {},
   "source": [
    "Now, we calculate the p value using this Chi2 statistic"
   ]
  },
  {
   "cell_type": "code",
   "execution_count": 34,
   "metadata": {},
   "outputs": [
    {
     "name": "stdout",
     "output_type": "stream",
     "text": [
      "Degrees of Freedom: 1\n"
     ]
    }
   ],
   "source": [
    "# Degrees of Freedom \n",
    "dof = (results_obs.shape[0] - 1) * (results_obs.shape[1] - 1)\n",
    "print(f\"Degrees of Freedom: {dof}\")"
   ]
  },
  {
   "cell_type": "code",
   "execution_count": 35,
   "metadata": {},
   "outputs": [
    {
     "name": "stdout",
     "output_type": "stream",
     "text": [
      "The p value is: 0.001726274144256204\n"
     ]
    }
   ],
   "source": [
    "# Use the Survival function of (1-cdf) to get the p-value\n",
    "p_value = chi2.sf(chi_2_stat, dof)\n",
    "print(f\"The p value is: {p_value}\")"
   ]
  },
  {
   "cell_type": "code",
   "execution_count": 36,
   "metadata": {},
   "outputs": [
    {
     "name": "stdout",
     "output_type": "stream",
     "text": [
      "The null hyphotesis is rejected\n"
     ]
    }
   ],
   "source": [
    "p_value_threshold = 0.05\n",
    "if p_value < p_value_threshold: \n",
    "    print(\"The null hyphotesis is rejected\")\n",
    "else: \n",
    "    print(\"Not enough evidence to reject the null hyphotesis\")"
   ]
  },
  {
   "cell_type": "markdown",
   "metadata": {},
   "source": [
    "### Using Scipy"
   ]
  },
  {
   "cell_type": "code",
   "execution_count": 37,
   "metadata": {},
   "outputs": [
    {
     "data": {
      "text/plain": [
       "Chi2ContingencyResult(statistic=9.819967266775771, pvalue=0.0017262741442562101, dof=1, expected_freq=array([[156.66666667, 783.33333333],\n",
       "       [ 43.33333333, 216.66666667]]))"
      ]
     },
     "execution_count": 37,
     "metadata": {},
     "output_type": "execute_result"
    }
   ],
   "source": [
    "test_results = chi2_contingency(results_obs, correction=False)\n",
    "test_results"
   ]
  },
  {
   "cell_type": "code",
   "execution_count": 38,
   "metadata": {},
   "outputs": [
    {
     "name": "stdout",
     "output_type": "stream",
     "text": [
      "The null hyphotesis is rejected\n"
     ]
    }
   ],
   "source": [
    "p_value_threshold = 0.05\n",
    "if test_results.pvalue < p_value_threshold: \n",
    "    print(\"The null hyphotesis is rejected\")\n",
    "else: \n",
    "    print(\"Not enough evidence to reject the null hyphotesis\")\n"
   ]
  }
 ],
 "metadata": {
  "kernelspec": {
   "display_name": "tensorflow",
   "language": "python",
   "name": "python3"
  },
  "language_info": {
   "codemirror_mode": {
    "name": "ipython",
    "version": 3
   },
   "file_extension": ".py",
   "mimetype": "text/x-python",
   "name": "python",
   "nbconvert_exporter": "python",
   "pygments_lexer": "ipython3",
   "version": "3.9.18"
  }
 },
 "nbformat": 4,
 "nbformat_minor": 2
}
