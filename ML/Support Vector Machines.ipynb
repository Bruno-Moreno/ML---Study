{
 "cells": [
  {
   "cell_type": "markdown",
   "id": "3b204eb5",
   "metadata": {},
   "source": [
    "# Support Vector Machine\n",
    "\n",
    "## Introduction and Formulation\n",
    "\n",
    "A Support Vector Machine (SVM) is a **supervised** learning model for **Classification and Regression** analysis. SVM maps training examples to points in space so as to maximize the width of the gap between the two categories. \n",
    "\n",
    "<figure>\n",
    "    <center><img src=\"img/SVM.png\" width=\"300\" height=\"300\">\n",
    "    <figcaption>Fig: Linear SVM</figcaption></center>\n",
    "</figure>\n",
    "\n",
    "Let $\\{x_i\\}_{i=1}^n$ the training set with classes $\\{ -1 , 1\\}$. The separation hyperplane is defined by \n",
    "$$ \\{ x \\in \\mathbb{R^n} | w^{\\top}x + b = 0 \\} $$\n",
    "\n",
    "So that if $w^{\\top}x + b > 0$ then $x$ belongs to the class 1 and if $w^{\\top}x + b < 0$ then $x$ belongs to the class -1. \n",
    "\n",
    "$w \\in \\mathbb{R}^n$ is the perpendicular vector to the hyperplane and $b \\in \\mathbb{R}$ the *offset*. When the data is linearly separable, there are infinite separation hyperplanes, so we want to impose the class membership constraint on the support vectors $x_{+} , x_{-}$\n",
    "$$\n",
    "\\begin{equation}\n",
    "\\begin{split}\n",
    "w^{\\top}x_{+} + b = 1 \\\\\n",
    "w^{\\top}x_{-} + b = -1\n",
    "\\end{split}\n",
    "\\end{equation} $$\n",
    "\n",
    "## Important Parameters\n",
    "\n",
    "\n",
    "## Implementation\n"
   ]
  },
  {
   "cell_type": "code",
   "execution_count": 1,
   "id": "672b79a7",
   "metadata": {},
   "outputs": [],
   "source": [
    "#Import usual libraries\n",
    "import numpy as np \n",
    "import pandas as pd \n",
    "import matplotlib.pyplot as plt \n",
    "\n",
    "#Import usual functions\n",
    "from sklearn.model_selection import train_test_split\n",
    "from sklearn.metrics import classification_report , accuracy_score\n",
    "\n",
    "#Import utils\n",
    "from utils.plot import confusion_matrix_custom\n",
    "\n",
    "#Import required libraries and functions\n",
    "from sklearn.datasets import load_iris, load_digits\n",
    "from sklearn.tree import DecisionTreeClassifier\n"
   ]
  }
 ],
 "metadata": {
  "interpreter": {
   "hash": "86ced299d573a58fc1d464bd2f917835a691b9d9cefee14c59fce60008360703"
  },
  "kernelspec": {
   "display_name": "Python 3.9.7 ('base')",
   "language": "python",
   "name": "python3"
  },
  "language_info": {
   "codemirror_mode": {
    "name": "ipython",
    "version": 3
   },
   "file_extension": ".py",
   "mimetype": "text/x-python",
   "name": "python",
   "nbconvert_exporter": "python",
   "pygments_lexer": "ipython3",
   "version": "3.9.12"
  }
 },
 "nbformat": 4,
 "nbformat_minor": 5
}
