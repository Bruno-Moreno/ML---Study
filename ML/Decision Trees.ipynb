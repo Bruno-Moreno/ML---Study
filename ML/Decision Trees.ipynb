{
 "cells": [
  {
   "cell_type": "markdown",
   "id": "3b204eb5",
   "metadata": {},
   "source": [
    "# Decision Trees\n",
    "\n",
    "## Introduction and Formulation\n",
    "\n",
    "A decision tree is a non-parametric **Supervised** learning method used for **Classification and Regression.** The objective is to learn simple decision rules inferred from the data features. \n",
    "\n",
    "<figure>\n",
    "    <center><img src=\"img/decision_tree.png\" width=\"300\" height=\"300\">\n",
    "    <figcaption>Fig: Decision Tree</figcaption></center>\n",
    "</figure>\n",
    "\n",
    "Starting from a base node, the strategy is to choose the attribute which **maximizes the Information Gain** and create a partition of the tree using that attribute\n",
    "$$\n",
    "(\\text{Entropy}) \\quad H(x) = -\\sum_{i=1}^n P(x_i)\\log_bP(x_i) \n",
    "$$\n",
    "<figure>\n",
    "    <center><img src=\"img/entropy.png\" width=\"300\" height=\"300\">\n",
    "    <figcaption>Fig: Binary Entropy function</figcaption></center>\n",
    "</figure>\n",
    "\n",
    "$$\n",
    "(\\text{Information Gain}) \\quad \\text{IG}(S,D) = H(S) - \\sum_{V \\in D} \\frac{|V|}{|D|}H(V)\n",
    "$$\n",
    "That is, the information before the split (S) - the information after the split (D). The resulting separation boundaries looks like this\n",
    "\n",
    "<figure>\n",
    "    <center><img src=\"img/decision_tree_data.png\" width=\"600\" height=\"300\">\n",
    "    <figcaption>Fig: Decision Tree Boundaries</figcaption></center>\n",
    "</figure>"
   ]
  },
  {
   "cell_type": "code",
   "execution_count": null,
   "id": "672b79a7",
   "metadata": {},
   "outputs": [],
   "source": [
    "#Import usual libraries\n",
    "import numpy as np \n",
    "import pandas as pd \n",
    "import matplotlib.pyplot as plt \n",
    "\n",
    "#Import required libraries and functions"
   ]
  }
 ],
 "metadata": {
  "interpreter": {
   "hash": "86ced299d573a58fc1d464bd2f917835a691b9d9cefee14c59fce60008360703"
  },
  "kernelspec": {
   "display_name": "Python 3.9.7 ('base')",
   "language": "python",
   "name": "python3"
  },
  "language_info": {
   "codemirror_mode": {
    "name": "ipython",
    "version": 3
   },
   "file_extension": ".py",
   "mimetype": "text/x-python",
   "name": "python",
   "nbconvert_exporter": "python",
   "pygments_lexer": "ipython3",
   "version": "3.8.5"
  }
 },
 "nbformat": 4,
 "nbformat_minor": 5
}
