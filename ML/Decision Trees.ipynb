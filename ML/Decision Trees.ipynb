{
 "cells": [
  {
   "cell_type": "markdown",
   "id": "3b204eb5",
   "metadata": {},
   "source": [
    "# Decision Trees\n",
    "\n",
    "## Resume\n",
    "\n",
    "## Introduction\n",
    "\n",
    "A decision tree is a non-parametric **Supervised** learning method used for **Classification and Regression.** The objective is to learn simple decision rules inferred from the data features. "
   ]
  },
  {
   "cell_type": "code",
   "execution_count": null,
   "id": "672b79a7",
   "metadata": {},
   "outputs": [],
   "source": [
    "#Import usual libraries\n",
    "import numpy as np \n",
    "import pandas as pd \n",
    "import matplotlib.pyplot as plt \n",
    "\n",
    "#Import required libraries and functions"
   ]
  }
 ],
 "metadata": {
  "interpreter": {
   "hash": "86ced299d573a58fc1d464bd2f917835a691b9d9cefee14c59fce60008360703"
  },
  "kernelspec": {
   "display_name": "Python 3.9.7 ('base')",
   "language": "python",
   "name": "python3"
  },
  "language_info": {
   "codemirror_mode": {
    "name": "ipython",
    "version": 3
   },
   "file_extension": ".py",
   "mimetype": "text/x-python",
   "name": "python",
   "nbconvert_exporter": "python",
   "pygments_lexer": "ipython3",
   "version": "3.9.12"
  }
 },
 "nbformat": 4,
 "nbformat_minor": 5
}
