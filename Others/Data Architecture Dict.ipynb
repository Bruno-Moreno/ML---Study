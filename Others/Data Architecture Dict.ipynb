{
 "cells": [
  {
   "cell_type": "markdown",
   "id": "3b204eb5",
   "metadata": {},
   "source": [
    "# Data Architecture\n",
    "\n",
    "\n",
    "## Data Warehouse\n",
    "\n",
    "## Data Lake \n",
    "\n",
    "## Data Governance "
   ]
  }
 ],
 "metadata": {
  "interpreter": {
   "hash": "86ced299d573a58fc1d464bd2f917835a691b9d9cefee14c59fce60008360703"
  },
  "kernelspec": {
   "display_name": "Python 3.9.7 ('base')",
   "language": "python",
   "name": "python3"
  },
  "language_info": {
   "codemirror_mode": {
    "name": "ipython",
    "version": 3
   },
   "file_extension": ".py",
   "mimetype": "text/x-python",
   "name": "python",
   "nbconvert_exporter": "python",
   "pygments_lexer": "ipython3",
   "version": "3.8.5"
  }
 },
 "nbformat": 4,
 "nbformat_minor": 5
}
