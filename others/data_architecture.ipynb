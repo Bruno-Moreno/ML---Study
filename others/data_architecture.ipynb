{
 "cells": [
  {
   "cell_type": "markdown",
   "id": "3b204eb5",
   "metadata": {},
   "source": [
    "# Data Architecture\n",
    "\n",
    "\n",
    "## Data Warehouse\n",
    "\n",
    " - It's fundamentally a relational database that **integrates data from multiple sources** in a enterprise. It is also the first step from a technical point of view to implement a reliable BI solution. \n",
    "\n",
    " <figure>\n",
    "    <center><img src=\"img/Data Warehouse.PNG\" width=\"500\" height=\"300\">\n",
    "    <figcaption>Fig: Data Warehouse Schema</figcaption></center>\n",
    "</figure>\n",
    "\n",
    "## Data Lake \n",
    "\n",
    " - It's a system or repository where data is **stored in raw form**. It can include relational data (rows and columns), semistructured data (csv,json), nonstructured (emails, documents), and binaries (records, images, video). The data lake can be \"on premise\" (inside the data center from the enterprise) or \"cloud-bases\" (Amazon, Microsoft or Google)\n",
    "\n",
    "<figure>\n",
    "    <center><img src=\"img/Data Lake.PNG\" width=\"500\" height=\"300\">\n",
    "    <figcaption>Fig: Data Lake Schema</figcaption></center>\n",
    "</figure>\n",
    "\n",
    "## Data Governance \n",
    "\n",
    " - It's the process of organizing, securing, managing, and presenting the data using the methods and technologies that **allow verified users to access the data**.\n",
    "\n",
    "<figure>\n",
    "    <center><img src=\"img/Data Governance.PNG\" width=\"500\" height=\"300\">\n",
    "    <figcaption>Fig: Data Governance Schema</figcaption></center>\n",
    "</figure>"
   ]
  }
 ],
 "metadata": {
  "interpreter": {
   "hash": "86ced299d573a58fc1d464bd2f917835a691b9d9cefee14c59fce60008360703"
  },
  "kernelspec": {
   "display_name": "Python 3.9.7 ('base')",
   "language": "python",
   "name": "python3"
  },
  "language_info": {
   "codemirror_mode": {
    "name": "ipython",
    "version": 3
   },
   "file_extension": ".py",
   "mimetype": "text/x-python",
   "name": "python",
   "nbconvert_exporter": "python",
   "pygments_lexer": "ipython3",
   "version": "3.8.5"
  }
 },
 "nbformat": 4,
 "nbformat_minor": 5
}
