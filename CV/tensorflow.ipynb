{
 "cells": [
  {
   "cell_type": "markdown",
   "metadata": {},
   "source": [
    "# Tensorflow GPU & CPU "
   ]
  },
  {
   "cell_type": "markdown",
   "metadata": {},
   "source": [
    "## Mac M2 Tutorial\n",
    "\n",
    "Use this instructions to create a virtual env that supports m2 gpu."
   ]
  },
  {
   "cell_type": "markdown",
   "metadata": {},
   "source": [
    " - conda create -n tensorflow python=3.8\n",
    " - conda activate tensorflow \n",
    " - conda install -c apple tensorflow-deps\n",
    " - pip install tensorflow-macos==2.9.0\n",
    " - pip install tensorflow-metal==0.5.0"
   ]
  },
  {
   "cell_type": "markdown",
   "metadata": {},
   "source": [
    "## Window Tutorial"
   ]
  },
  {
   "cell_type": "markdown",
   "metadata": {},
   "source": [
    "## Implementation"
   ]
  },
  {
   "cell_type": "markdown",
   "metadata": {},
   "source": [
    "### Libraries and Configurations"
   ]
  },
  {
   "cell_type": "code",
   "execution_count": 3,
   "metadata": {},
   "outputs": [],
   "source": [
    "# Common Libraries\n",
    "import matplotlib.pyplot as plt \n",
    "import numpy as np \n",
    "\n",
    "# Deep Learning\n",
    "import tensorflow as tf\n",
    "import keras\n",
    "from keras.models import Sequential\n",
    "from keras.layers import (Dense, Flatten)"
   ]
  },
  {
   "cell_type": "code",
   "execution_count": 4,
   "metadata": {},
   "outputs": [
    {
     "name": "stdout",
     "output_type": "stream",
     "text": [
      "Num GPUs Available:  1\n"
     ]
    }
   ],
   "source": [
    "print(\"Num GPUs Available: \", len(tf.config.list_physical_devices('GPU')))"
   ]
  },
  {
   "cell_type": "markdown",
   "metadata": {},
   "source": [
    "### Dataset"
   ]
  },
  {
   "cell_type": "code",
   "execution_count": 5,
   "metadata": {},
   "outputs": [
    {
     "name": "stdout",
     "output_type": "stream",
     "text": [
      "Train Shape: (55000, 28, 28)\n",
      "Val Shape: (5000, 28, 28)\n",
      "Test Shape: (10000, 28, 28)\n"
     ]
    }
   ],
   "source": [
    "mnist = keras.datasets.mnist\n",
    "(X_train_full,y_train_full) , (X_test , y_test) = mnist.load_data()\n",
    "\n",
    "X_val , X_train =  X_train_full[:5000] / 255.0 , X_train_full[5000:] / 255.0\n",
    "y_val , y_train =  y_train_full[:5000]  , y_train_full[5000:] \n",
    "\n",
    "print(f'Train Shape: {X_train.shape}')\n",
    "print(f'Val Shape: {X_val.shape}')\n",
    "print(f'Test Shape: {X_test.shape}')"
   ]
  },
  {
   "cell_type": "code",
   "execution_count": 6,
   "metadata": {},
   "outputs": [
    {
     "data": {
      "image/png": "[encoded data removed]",
      "text/plain": [
       "<Figure size 300x300 with 1 Axes>"
      ]
     },
     "metadata": {},
     "output_type": "display_data"
    }
   ],
   "source": [
    "plt.figure(figsize=(3,3))\n",
    "plt.imshow(X_train[666], cmap = \"gray\")\n",
    "plt.title(f\"Number: {y_train[666]}\")\n",
    "plt.show()"
   ]
  },
  {
   "cell_type": "markdown",
   "metadata": {},
   "source": [
    "### Training CPU/GPU:"
   ]
  },
  {
   "cell_type": "code",
   "execution_count": 7,
   "metadata": {},
   "outputs": [],
   "source": [
    "def FFNN(input_size_x, input_size_y):\n",
    "  model = Sequential(name='FFNN')\n",
    "  model.add(Flatten(input_shape = (input_size_x, input_size_y, )))\n",
    "  model.add(Dense(1000 , activation = \"relu\"))\n",
    "  model.add(Dense(500 ,  activation = \"relu\"))\n",
    "  model.add(Dense(10 ,  activation = \"softmax\"))\n",
    "  model.summary()\n",
    "\n",
    "  return model"
   ]
  },
  {
   "cell_type": "code",
   "execution_count": 8,
   "metadata": {},
   "outputs": [
    {
     "name": "stdout",
     "output_type": "stream",
     "text": [
      "Metal device set to: Apple M2\n",
      "\n",
      "systemMemory: 8.00 GB\n",
      "maxCacheSize: 2.67 GB\n",
      "\n",
      "Model: \"FFNN\"\n",
      "_________________________________________________________________\n",
      " Layer (type)                Output Shape              Param #   \n",
      "=================================================================\n",
      " flatten (Flatten)           (None, 784)               0         \n",
      "                                                                 \n",
      " dense (Dense)               (None, 1000)              785000    \n",
      "                                                                 \n",
      " dense_1 (Dense)             (None, 500)               500500    \n",
      "                                                                 \n",
      " dense_2 (Dense)             (None, 10)                5010      \n",
      "                                                                 \n",
      "=================================================================\n",
      "Total params: 1,290,510\n",
      "Trainable params: 1,290,510\n",
      "Non-trainable params: 0\n",
      "_________________________________________________________________\n"
     ]
    },
    {
     "name": "stderr",
     "output_type": "stream",
     "text": [
      "2024-01-02 18:54:55.688191: I tensorflow/core/common_runtime/pluggable_device/pluggable_device_factory.cc:305] Could not identify NUMA node of platform GPU ID 0, defaulting to 0. Your kernel may not have been built with NUMA support.\n",
      "2024-01-02 18:54:55.688341: I tensorflow/core/common_runtime/pluggable_device/pluggable_device_factory.cc:271] Created TensorFlow device (/job:localhost/replica:0/task:0/device:GPU:0 with 0 MB memory) -> physical PluggableDevice (device: 0, name: METAL, pci bus id: <undefined>)\n"
     ]
    }
   ],
   "source": [
    "input_size_x = 28\n",
    "input_size_y = 28\n",
    "model = FFNN(input_size_x, input_size_y)\n",
    "model.compile(\"adam\", loss=tf.keras.losses.SparseCategoricalCrossentropy(), metrics = [\"accuracy\"])"
   ]
  },
  {
   "cell_type": "code",
   "execution_count": 10,
   "metadata": {},
   "outputs": [
    {
     "name": "stdout",
     "output_type": "stream",
     "text": [
      "Epoch 1/3\n",
      "108/108 [==============================] - 1s 12ms/step - loss: 0.0416 - accuracy: 0.9870\n",
      "Epoch 2/3\n",
      "108/108 [==============================] - 1s 12ms/step - loss: 0.0270 - accuracy: 0.9920\n",
      "Epoch 3/3\n",
      "108/108 [==============================] - 1s 12ms/step - loss: 0.0184 - accuracy: 0.9947\n",
      "CPU times: user 1.67 s, sys: 1.14 s, total: 2.8 s\n",
      "Wall time: 3.98 s\n"
     ]
    }
   ],
   "source": [
    "%%time\n",
    "with tf.device('/device:GPU:0'):\n",
    "    model.fit(X_train, y_train.reshape((-1,1)) , epochs=3, batch_size=512)"
   ]
  },
  {
   "cell_type": "code",
   "execution_count": 12,
   "metadata": {},
   "outputs": [
    {
     "name": "stdout",
     "output_type": "stream",
     "text": [
      "Epoch 1/3\n",
      "108/108 [==============================] - 2s 16ms/step - loss: 0.0056 - accuracy: 0.9985\n",
      "Epoch 2/3\n",
      "108/108 [==============================] - 2s 16ms/step - loss: 0.0023 - accuracy: 0.9996\n",
      "Epoch 3/3\n",
      "108/108 [==============================] - 2s 17ms/step - loss: 0.0015 - accuracy: 0.9998\n",
      "CPU times: user 21.4 s, sys: 2.89 s, total: 24.3 s\n",
      "Wall time: 5.41 s\n"
     ]
    }
   ],
   "source": [
    "%%time\n",
    "with tf.device('/device:CPU:0'):\n",
    "    model.fit(X_train, y_train.reshape((-1,1)) , epochs=3, batch_size=512)"
   ]
  },
  {
   "cell_type": "code",
   "execution_count": null,
   "metadata": {},
   "outputs": [],
   "source": []
  }
 ],
 "metadata": {
  "kernelspec": {
   "display_name": "tensorflow",
   "language": "python",
   "name": "python3"
  },
  "language_info": {
   "codemirror_mode": {
    "name": "ipython",
    "version": 3
   },
   "file_extension": ".py",
   "mimetype": "text/x-python",
   "name": "python",
   "nbconvert_exporter": "python",
   "pygments_lexer": "ipython3",
   "version": "3.8.18"
  }
 },
 "nbformat": 4,
 "nbformat_minor": 2
}
